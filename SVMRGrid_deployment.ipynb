{
 "cells": [
  {
   "cell_type": "code",
   "execution_count": 1,
   "id": "d1088612",
   "metadata": {},
   "outputs": [
    {
     "data": {
      "text/plain": [
       "array([17144.08729473])"
      ]
     },
     "execution_count": 1,
     "metadata": {},
     "output_type": "execute_result"
    }
   ],
   "source": [
    "import pickle\n",
    "newModel=pickle.load(open(\"SVMRGridSearch.sav\", 'rb'))\n",
    "predicatedValue=newModel.predict([[38,35,1,2,1]])\n",
    "predicatedValue"
   ]
  }
 ],
 "metadata": {
  "kernelspec": {
   "display_name": "Python 3 (ipykernel)",
   "language": "python",
   "name": "python3"
  },
  "language_info": {
   "codemirror_mode": {
    "name": "ipython",
    "version": 3
   },
   "file_extension": ".py",
   "mimetype": "text/x-python",
   "name": "python",
   "nbconvert_exporter": "python",
   "pygments_lexer": "ipython3",
   "version": "3.11.5"
  }
 },
 "nbformat": 4,
 "nbformat_minor": 5
}
